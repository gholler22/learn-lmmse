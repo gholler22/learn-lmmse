{
 "cells": [
  {
   "cell_type": "markdown",
   "id": "92f72e3f-dbd4-4ada-a284-80448b33a45d",
   "metadata": {},
   "source": [
    "# Examples of the available subclass of InverseProblem"
   ]
  },
  {
   "cell_type": "markdown",
   "id": "0e89a815-bc35-42e3-9fb1-cab9c1a0690c",
   "metadata": {},
   "source": [
    "We import the necessary packages and create a function for printing the\n",
    "names and shapes of the created training sets."
   ]
  },
  {
   "cell_type": "code",
   "execution_count": 6,
   "id": "b293ba84-99e6-41f3-9877-427b46593fcd",
   "metadata": {},
   "outputs": [],
   "source": [
    "import numpy as np\n",
    "import invprob\n",
    "\n",
    "def print_shapes(name_length=10, **kwargs):\n",
    "    '''Prints the shapes for given keyword-array pairs.'''\n",
    "    length = '%-' + str(name_length) + 's'\n",
    "    print(length % 'var', 'shape')\n",
    "    for name, data in kwargs.items():\n",
    "        print(length % name, str(data.shape))"
   ]
  },
  {
   "cell_type": "markdown",
   "id": "cd189eb7-2ee8-4ee9-8d5d-355710870a05",
   "metadata": {},
   "source": [
    "## The Gaussian Inverse Problem class\n",
    "There are three possibilities for creating a Gaussian Inverse Problem."
   ]
  },
  {
   "cell_type": "markdown",
   "id": "45cf675b-23cf-47c5-89b0-fc4efa11e207",
   "metadata": {},
   "source": [
    "#### 1. User-specified forward operator\n",
    "\n",
    "You can provide your own forward operator as an ```ndarray``` of shape ```(dim_Y, dim_X)```.\n"
   ]
  },
  {
   "cell_type": "code",
   "execution_count": 7,
   "id": "6e7412fa-7f39-4559-afe3-7b58015aa892",
   "metadata": {},
   "outputs": [
    {
     "name": "stdout",
     "output_type": "stream",
     "text": [
      "var        shape\n",
      "X          (10, 3)\n",
      "Y          (10, 4)\n",
      "Z          (10, 4)\n",
      "A          (4, 3)\n"
     ]
    }
   ],
   "source": [
    "A = np.arange(12).reshape((4,3))\n",
    "\n",
    "gaussian_custom = invprob.GaussianInverseProblem(forward_operator=A)\n",
    "X, Y, Z = gaussian_custom.create_samples(n_samples=10)\n",
    "print_shapes(X=X, Y=Y, Z=Z, A=gaussian_custom.A)"
   ]
  },
  {
   "cell_type": "markdown",
   "id": "f36e5574-6125-49f6-81ca-487dd2cf5f90",
   "metadata": {},
   "source": [
    "#### 2. Identity forward operator\n",
    "\n",
    "You can choose the identity as a forward operator."
   ]
  },
  {
   "cell_type": "code",
   "execution_count": 8,
   "id": "04c51ac7-1e73-4802-9579-88a7762f6e3e",
   "metadata": {},
   "outputs": [
    {
     "name": "stdout",
     "output_type": "stream",
     "text": [
      "var        shape\n",
      "X          (10, 4)\n",
      "Y          (10, 4)\n",
      "Z          (10, 4)\n",
      "A          (4, 4)\n"
     ]
    }
   ],
   "source": [
    "N = 4\n",
    "gaussian_identity = invprob.GaussianInverseProblem(forward_operator='identity', \n",
    "                                             dim_X=N)\n",
    "X, Y, Z = gaussian_identity.create_samples(n_samples=10)\n",
    "print_shapes(X=X, Y=Y, Z=Z, A=gaussian_identity.A)"
   ]
  },
  {
   "cell_type": "markdown",
   "id": "765b734e-025d-4ac0-a16c-9692f09fc66e",
   "metadata": {},
   "source": [
    "#### 3. Forward operator with independent standard normal entries\n",
    "\n",
    "You can let the entries of A be realizations of independent standard normal Gaussian random variables."
   ]
  },
  {
   "cell_type": "code",
   "execution_count": 9,
   "id": "e73d3550-3519-4991-a8b9-b85c2389c7e0",
   "metadata": {},
   "outputs": [
    {
     "name": "stdout",
     "output_type": "stream",
     "text": [
      "var        shape\n",
      "X          (10, 8)\n",
      "Y          (10, 16)\n",
      "Z          (10, 16)\n",
      "A          (16, 8)\n"
     ]
    }
   ],
   "source": [
    "N = 8\n",
    "M = 16\n",
    "gaussian_random = invprob.GaussianInverseProblem(forward_operator='random', \n",
    "                                             dim_X=N, dim_Y=M)\n",
    "X, Y, Z = gaussian_random.create_samples(n_samples=10)\n",
    "print_shapes(X=X, Y=Y, Z=Z, A=gaussian_random.A)"
   ]
  },
  {
   "cell_type": "markdown",
   "id": "313c5178-32e4-4bcc-a002-38c682a191dd",
   "metadata": {},
   "source": [
    "## The Sampled Inverse Problem class\n",
    "\n",
    "In the ```SampledInverseProblem``` class the prior is only observed through\n",
    "samples from some database.  In this example, as a database we use the [Fashion MNIST image data](https://www.tensorflow.org/api_docs/python/tf/keras/datasets/fashion_mnist/load_data) \n",
    "which can be loaded from TensorFlow.\n"
   ]
  },
  {
   "cell_type": "code",
   "execution_count": 10,
   "id": "21b376a1-ba74-431a-b4f8-9c70a4ed4861",
   "metadata": {},
   "outputs": [
    {
     "name": "stdout",
     "output_type": "stream",
     "text": [
      "var        shape\n",
      "X_test     (300, 784)\n",
      "Y_test     (300, 784)\n",
      "Z_test     (300, 784)\n",
      "X_train    (500, 784)\n",
      "Y_train    (500, 784)\n",
      "Z_train    (500, 784)\n",
      "A          (784, 784)\n"
     ]
    }
   ],
   "source": [
    "from tensorflow import keras\n",
    "\n",
    "def rescaled_fashion_mnist():\n",
    "    '''Loads and rescales the fashion_mnist training and test images.\n",
    "    \n",
    "    Returns:\n",
    "        X_train: ndarray of shape (60000, 28**2)\n",
    "            The 60000 training images in vectorized form. \n",
    "        X_test: ndarray of shape (10000, 28**2)\n",
    "            The 10000 test images in vectorized form.\n",
    "    '''    \n",
    "    fashion_mnist = keras.datasets.fashion_mnist\n",
    "    (train_img, train_labels), (test_img, test_labels) = (\n",
    "        fashion_mnist.load_data())\n",
    "\n",
    "    train_img = train_img / 255 \n",
    "    test_img = test_img / 255\n",
    "\n",
    "    X_train = np.reshape(\n",
    "        train_img, \n",
    "        (train_img.shape[0], train_img.shape[1]*train_img.shape[2])\n",
    "        )\n",
    "    X_test = np.reshape(\n",
    "        test_img, \n",
    "        (test_img.shape[0], test_img.shape[1]*test_img.shape[2])\n",
    "        )\n",
    "    return X_train, X_test\n",
    "\n",
    "denoising_fashion_mnist = invprob.SampledInverseProblem(\n",
    "    database=rescaled_fashion_mnist,\n",
    "    noiselevel=0.3\n",
    "    )\n",
    "            \n",
    "X_test, Y_test, Z_test = denoising_fashion_mnist.create_samples(n_samples=300, \n",
    "                                            sample_type='test')\n",
    "X_train, Y_train, Z_train = denoising_fashion_mnist.create_samples(\n",
    "    n_samples=500, \n",
    "    sample_type='train'\n",
    "    )\n",
    "print_shapes(X_test=X_test, Y_test=Y_test, Z_test=Z_test, X_train=X_train, \n",
    "             Y_train=Y_train, Z_train=Z_train, A=denoising_fashion_mnist.A)    "
   ]
  }
 ],
 "metadata": {
  "kernelspec": {
   "display_name": "Python 3",
   "language": "python",
   "name": "python3"
  },
  "language_info": {
   "codemirror_mode": {
    "name": "ipython",
    "version": 3
   },
   "file_extension": ".py",
   "mimetype": "text/x-python",
   "name": "python",
   "nbconvert_exporter": "python",
   "pygments_lexer": "ipython3",
   "version": "3.6.9"
  }
 },
 "nbformat": 4,
 "nbformat_minor": 5
}
